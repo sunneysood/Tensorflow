{
  "nbformat": 4,
  "nbformat_minor": 0,
  "metadata": {
    "colab": {
      "name": "Shakespeare_predicting_next_word.ipynb",
      "provenance": [],
      "include_colab_link": true
    },
    "kernelspec": {
      "name": "python3",
      "display_name": "Python 3"
    },
    "accelerator": "GPU"
  },
  "cells": [
    {
      "cell_type": "markdown",
      "metadata": {
        "id": "view-in-github",
        "colab_type": "text"
      },
      "source": [
        "<a href=\"https://colab.research.google.com/github/sunneysood/Tensorflow/blob/master/Shakespeare_predicting_next_word.ipynb\" target=\"_parent\"><img src=\"https://colab.research.google.com/assets/colab-badge.svg\" alt=\"Open In Colab\"/></a>"
      ]
    },
    {
      "cell_type": "code",
      "metadata": {
        "id": "BOwsuGQQY9OL",
        "colab_type": "code",
        "colab": {
          "base_uri": "https://localhost:8080/",
          "height": 62
        },
        "outputId": "0ed20d18-9cd0-4c96-d2fd-aa9d97ec2686"
      },
      "source": [
        "from tensorflow.keras.preprocessing.sequence import pad_sequences\n",
        "from tensorflow.keras.layers import Embedding, LSTM, Dense, Dropout, Bidirectional\n",
        "from tensorflow.keras.preprocessing.text import Tokenizer\n",
        "from tensorflow.keras.models import Sequential\n",
        "from tensorflow.keras.optimizers import Adam\n",
        "### YOUR CODE HERE\n",
        "# Figure out how to import regularizers\n",
        "###\n",
        "from tensorflow.keras import regularizers\n",
        "import tensorflow.keras.utils as ku \n",
        "import numpy as np "
      ],
      "execution_count": 1,
      "outputs": [
        {
          "output_type": "display_data",
          "data": {
            "text/html": [
              "<p style=\"color: red;\">\n",
              "The default version of TensorFlow in Colab will soon switch to TensorFlow 2.x.<br>\n",
              "We recommend you <a href=\"https://www.tensorflow.org/guide/migrate\" target=\"_blank\">upgrade</a> now \n",
              "or ensure your notebook will continue to use TensorFlow 1.x via the <code>%tensorflow_version 1.x</code> magic:\n",
              "<a href=\"https://colab.research.google.com/notebooks/tensorflow_version.ipynb\" target=\"_blank\">more info</a>.</p>\n"
            ],
            "text/plain": [
              "<IPython.core.display.HTML object>"
            ]
          },
          "metadata": {
            "tags": []
          }
        }
      ]
    },
    {
      "cell_type": "code",
      "metadata": {
        "colab_type": "code",
        "id": "PRnDnCW-Z7qv",
        "colab": {
          "base_uri": "https://localhost:8080/",
          "height": 202
        },
        "outputId": "4a047230-474d-4789-d7c9-6e546db9d905"
      },
      "source": [
        "tokenizer = Tokenizer()\n",
        "!wget --no-check-certificate \\\n",
        "    https://storage.googleapis.com/laurencemoroney-blog.appspot.com/sonnets.txt \\\n",
        "    -O /tmp/sonnets.txt\n",
        "data = open('/tmp/sonnets.txt').read()\n",
        "\n",
        "corpus = data.lower().split(\"\\n\")\n",
        "\n",
        "\n",
        "tokenizer.fit_on_texts(corpus)\n",
        "total_words = len(tokenizer.word_index) + 1\n",
        "\n",
        "# create input sequences using list of tokens\n",
        "input_sequences = []\n",
        "for line in corpus:\n",
        "\ttoken_list = tokenizer.texts_to_sequences([line])[0]\n",
        "\tfor i in range(1, len(token_list)):\n",
        "\t\tn_gram_sequence = token_list[:i+1]\n",
        "\t\tinput_sequences.append(n_gram_sequence)\n",
        "\n",
        "\n",
        "# pad sequences \n",
        "max_sequence_len = max([len(x) for x in input_sequences])\n",
        "input_sequences = np.array(pad_sequences(input_sequences, maxlen=max_sequence_len, padding='pre'))\n",
        "\n",
        "# create predictors and label\n",
        "predictors, label = input_sequences[:,:-1],input_sequences[:,-1]\n",
        "\n",
        "label = ku.to_categorical(label, num_classes=total_words)"
      ],
      "execution_count": 2,
      "outputs": [
        {
          "output_type": "stream",
          "text": [
            "--2019-11-27 08:38:48--  https://storage.googleapis.com/laurencemoroney-blog.appspot.com/sonnets.txt\n",
            "Resolving storage.googleapis.com (storage.googleapis.com)... 74.125.195.128, 2607:f8b0:400e:c03::80\n",
            "Connecting to storage.googleapis.com (storage.googleapis.com)|74.125.195.128|:443... connected.\n",
            "HTTP request sent, awaiting response... 200 OK\n",
            "Length: 93578 (91K) [text/plain]\n",
            "Saving to: ‘/tmp/sonnets.txt’\n",
            "\n",
            "\r/tmp/sonnets.txt      0%[                    ]       0  --.-KB/s               \r/tmp/sonnets.txt    100%[===================>]  91.38K  --.-KB/s    in 0.001s  \n",
            "\n",
            "2019-11-27 08:38:48 (123 MB/s) - ‘/tmp/sonnets.txt’ saved [93578/93578]\n",
            "\n"
          ],
          "name": "stdout"
        }
      ]
    },
    {
      "cell_type": "code",
      "metadata": {
        "id": "w9vH8Y59ajYL",
        "colab_type": "code",
        "colab": {
          "base_uri": "https://localhost:8080/",
          "height": 642
        },
        "outputId": "579a500e-cc4c-46d2-ebf7-5c12da951a2c"
      },
      "source": [
        "model = Sequential()\n",
        "model.add(Embedding(total_words,100,input_length=max_sequence_len-1))\n",
        "model.add(Bidirectional(LSTM(150,return_sequences=True)))\n",
        "model.add(Dropout(0.2))\n",
        "model.add(Bidirectional(LSTM(100)))\n",
        "model.add(Dense(total_words/2,activation='relu',kernel_regularizer=regularizers.l2(l=0.01)))\n",
        "model.add(Dense(total_words,activation='softmax'))\n",
        "# Pick an optimizer\n",
        "model.compile(loss='categorical_crossentropy',optimizer='adam',metrics=['accuracy'])\n",
        "print(model.summary())\n"
      ],
      "execution_count": 3,
      "outputs": [
        {
          "output_type": "stream",
          "text": [
            "WARNING:tensorflow:From /usr/local/lib/python3.6/dist-packages/tensorflow_core/python/keras/initializers.py:119: calling RandomUniform.__init__ (from tensorflow.python.ops.init_ops) with dtype is deprecated and will be removed in a future version.\n",
            "Instructions for updating:\n",
            "Call initializer instance with the dtype argument instead of passing it to the constructor\n",
            "WARNING:tensorflow:From /usr/local/lib/python3.6/dist-packages/tensorflow_core/python/ops/resource_variable_ops.py:1630: calling BaseResourceVariable.__init__ (from tensorflow.python.ops.resource_variable_ops) with constraint is deprecated and will be removed in a future version.\n",
            "Instructions for updating:\n",
            "If using Keras pass *_constraint arguments to layers.\n",
            "WARNING:tensorflow:From /usr/local/lib/python3.6/dist-packages/tensorflow_core/python/ops/init_ops.py:97: calling GlorotUniform.__init__ (from tensorflow.python.ops.init_ops) with dtype is deprecated and will be removed in a future version.\n",
            "Instructions for updating:\n",
            "Call initializer instance with the dtype argument instead of passing it to the constructor\n",
            "WARNING:tensorflow:From /usr/local/lib/python3.6/dist-packages/tensorflow_core/python/ops/init_ops.py:97: calling Orthogonal.__init__ (from tensorflow.python.ops.init_ops) with dtype is deprecated and will be removed in a future version.\n",
            "Instructions for updating:\n",
            "Call initializer instance with the dtype argument instead of passing it to the constructor\n",
            "WARNING:tensorflow:From /usr/local/lib/python3.6/dist-packages/tensorflow_core/python/ops/init_ops.py:97: calling Zeros.__init__ (from tensorflow.python.ops.init_ops) with dtype is deprecated and will be removed in a future version.\n",
            "Instructions for updating:\n",
            "Call initializer instance with the dtype argument instead of passing it to the constructor\n",
            "Model: \"sequential\"\n",
            "_________________________________________________________________\n",
            "Layer (type)                 Output Shape              Param #   \n",
            "=================================================================\n",
            "embedding (Embedding)        (None, 10, 100)           321100    \n",
            "_________________________________________________________________\n",
            "bidirectional (Bidirectional (None, 10, 300)           301200    \n",
            "_________________________________________________________________\n",
            "dropout (Dropout)            (None, 10, 300)           0         \n",
            "_________________________________________________________________\n",
            "bidirectional_1 (Bidirection (None, 200)               320800    \n",
            "_________________________________________________________________\n",
            "dense (Dense)                (None, 1605)              322605    \n",
            "_________________________________________________________________\n",
            "dense_1 (Dense)              (None, 3211)              5156866   \n",
            "=================================================================\n",
            "Total params: 6,422,571\n",
            "Trainable params: 6,422,571\n",
            "Non-trainable params: 0\n",
            "_________________________________________________________________\n",
            "None\n"
          ],
          "name": "stdout"
        }
      ]
    },
    {
      "cell_type": "code",
      "metadata": {
        "id": "AIg2f1HBxqof",
        "colab_type": "code",
        "colab": {
          "base_uri": "https://localhost:8080/",
          "height": 1000
        },
        "outputId": "46ecadeb-a5bc-42c9-c690-e94e1ffe3bad"
      },
      "source": [
        " history = model.fit(predictors, label, epochs=100, verbose=1)"
      ],
      "execution_count": 4,
      "outputs": [
        {
          "output_type": "stream",
          "text": [
            "WARNING:tensorflow:From /usr/local/lib/python3.6/dist-packages/tensorflow_core/python/ops/math_grad.py:1424: where (from tensorflow.python.ops.array_ops) is deprecated and will be removed in a future version.\n",
            "Instructions for updating:\n",
            "Use tf.where in 2.0, which has the same broadcast rule as np.where\n",
            "Train on 15462 samples\n",
            "Epoch 1/100\n",
            "15462/15462 [==============================] - 27s 2ms/sample - loss: 6.9908 - acc: 0.0208\n",
            "Epoch 2/100\n",
            "15462/15462 [==============================] - 25s 2ms/sample - loss: 6.5114 - acc: 0.0234\n",
            "Epoch 3/100\n",
            "15462/15462 [==============================] - 25s 2ms/sample - loss: 6.4167 - acc: 0.0272\n",
            "Epoch 4/100\n",
            "15462/15462 [==============================] - 25s 2ms/sample - loss: 6.3053 - acc: 0.0314\n",
            "Epoch 5/100\n",
            "15462/15462 [==============================] - 25s 2ms/sample - loss: 6.1824 - acc: 0.0388\n",
            "Epoch 6/100\n",
            "15462/15462 [==============================] - 25s 2ms/sample - loss: 6.0682 - acc: 0.0394\n",
            "Epoch 7/100\n",
            "15462/15462 [==============================] - 25s 2ms/sample - loss: 5.9488 - acc: 0.0435\n",
            "Epoch 8/100\n",
            "15462/15462 [==============================] - 25s 2ms/sample - loss: 5.8350 - acc: 0.0479\n",
            "Epoch 9/100\n",
            "15462/15462 [==============================] - 25s 2ms/sample - loss: 5.7179 - acc: 0.0539\n",
            "Epoch 10/100\n",
            "15462/15462 [==============================] - 25s 2ms/sample - loss: 5.5939 - acc: 0.0622\n",
            "Epoch 11/100\n",
            "15462/15462 [==============================] - 25s 2ms/sample - loss: 5.4580 - acc: 0.0707\n",
            "Epoch 12/100\n",
            "15462/15462 [==============================] - 25s 2ms/sample - loss: 5.3322 - acc: 0.0823\n",
            "Epoch 13/100\n",
            "15462/15462 [==============================] - 25s 2ms/sample - loss: 5.2103 - acc: 0.0896\n",
            "Epoch 14/100\n",
            "15462/15462 [==============================] - 25s 2ms/sample - loss: 5.0911 - acc: 0.0969\n",
            "Epoch 15/100\n",
            "15462/15462 [==============================] - 25s 2ms/sample - loss: 4.9736 - acc: 0.1046\n",
            "Epoch 16/100\n",
            "15462/15462 [==============================] - 25s 2ms/sample - loss: 4.8565 - acc: 0.1137\n",
            "Epoch 17/100\n",
            "15462/15462 [==============================] - 25s 2ms/sample - loss: 4.7364 - acc: 0.1244\n",
            "Epoch 18/100\n",
            "15462/15462 [==============================] - 25s 2ms/sample - loss: 4.6312 - acc: 0.1374\n",
            "Epoch 19/100\n",
            "15462/15462 [==============================] - 25s 2ms/sample - loss: 4.5129 - acc: 0.1457\n",
            "Epoch 20/100\n",
            "15462/15462 [==============================] - 25s 2ms/sample - loss: 4.3959 - acc: 0.1592\n",
            "Epoch 21/100\n",
            "15462/15462 [==============================] - 25s 2ms/sample - loss: 4.2789 - acc: 0.1752\n",
            "Epoch 22/100\n",
            "15462/15462 [==============================] - 25s 2ms/sample - loss: 4.1550 - acc: 0.1875\n",
            "Epoch 23/100\n",
            "15462/15462 [==============================] - 25s 2ms/sample - loss: 4.0452 - acc: 0.2018\n",
            "Epoch 24/100\n",
            "15462/15462 [==============================] - 25s 2ms/sample - loss: 3.9323 - acc: 0.2166\n",
            "Epoch 25/100\n",
            "15462/15462 [==============================] - 24s 2ms/sample - loss: 3.8082 - acc: 0.2375\n",
            "Epoch 26/100\n",
            "15462/15462 [==============================] - 25s 2ms/sample - loss: 3.7013 - acc: 0.2551\n",
            "Epoch 27/100\n",
            "15462/15462 [==============================] - 25s 2ms/sample - loss: 3.5962 - acc: 0.2747\n",
            "Epoch 28/100\n",
            "15462/15462 [==============================] - 25s 2ms/sample - loss: 3.4772 - acc: 0.2987\n",
            "Epoch 29/100\n",
            "15462/15462 [==============================] - 24s 2ms/sample - loss: 3.3748 - acc: 0.3216\n",
            "Epoch 30/100\n",
            "15462/15462 [==============================] - 25s 2ms/sample - loss: 3.2786 - acc: 0.3443\n",
            "Epoch 31/100\n",
            "15462/15462 [==============================] - 25s 2ms/sample - loss: 3.1779 - acc: 0.3621\n",
            "Epoch 32/100\n",
            "15462/15462 [==============================] - 24s 2ms/sample - loss: 3.0992 - acc: 0.3798\n",
            "Epoch 33/100\n",
            "15462/15462 [==============================] - 24s 2ms/sample - loss: 2.9963 - acc: 0.4006\n",
            "Epoch 34/100\n",
            "15462/15462 [==============================] - 25s 2ms/sample - loss: 2.8930 - acc: 0.4299\n",
            "Epoch 35/100\n",
            "15462/15462 [==============================] - 24s 2ms/sample - loss: 2.8058 - acc: 0.4474\n",
            "Epoch 36/100\n",
            "15462/15462 [==============================] - 24s 2ms/sample - loss: 2.7401 - acc: 0.4617\n",
            "Epoch 37/100\n",
            "15462/15462 [==============================] - 25s 2ms/sample - loss: 2.6526 - acc: 0.4825\n",
            "Epoch 38/100\n",
            "15462/15462 [==============================] - 25s 2ms/sample - loss: 2.5679 - acc: 0.5029\n",
            "Epoch 39/100\n",
            "15462/15462 [==============================] - 24s 2ms/sample - loss: 2.4929 - acc: 0.5261\n",
            "Epoch 40/100\n",
            "15462/15462 [==============================] - 25s 2ms/sample - loss: 2.4298 - acc: 0.5363\n",
            "Epoch 41/100\n",
            "15462/15462 [==============================] - 25s 2ms/sample - loss: 2.3662 - acc: 0.5495\n",
            "Epoch 42/100\n",
            "15462/15462 [==============================] - 24s 2ms/sample - loss: 2.2778 - acc: 0.5755\n",
            "Epoch 43/100\n",
            "15462/15462 [==============================] - 25s 2ms/sample - loss: 2.2336 - acc: 0.5849\n",
            "Epoch 44/100\n",
            "15462/15462 [==============================] - 25s 2ms/sample - loss: 2.1761 - acc: 0.5949\n",
            "Epoch 45/100\n",
            "15462/15462 [==============================] - 25s 2ms/sample - loss: 2.1212 - acc: 0.6087\n",
            "Epoch 46/100\n",
            "15462/15462 [==============================] - 24s 2ms/sample - loss: 2.0541 - acc: 0.6262\n",
            "Epoch 47/100\n",
            "15462/15462 [==============================] - 25s 2ms/sample - loss: 1.9953 - acc: 0.6408\n",
            "Epoch 48/100\n",
            "15462/15462 [==============================] - 25s 2ms/sample - loss: 1.9598 - acc: 0.6467\n",
            "Epoch 49/100\n",
            "15462/15462 [==============================] - 25s 2ms/sample - loss: 1.9086 - acc: 0.6611\n",
            "Epoch 50/100\n",
            "15462/15462 [==============================] - 24s 2ms/sample - loss: 1.8611 - acc: 0.6705\n",
            "Epoch 51/100\n",
            "15462/15462 [==============================] - 24s 2ms/sample - loss: 1.8184 - acc: 0.6802\n",
            "Epoch 52/100\n",
            "15462/15462 [==============================] - 24s 2ms/sample - loss: 1.7725 - acc: 0.6884\n",
            "Epoch 53/100\n",
            "15462/15462 [==============================] - 25s 2ms/sample - loss: 1.7366 - acc: 0.6962\n",
            "Epoch 54/100\n",
            "15462/15462 [==============================] - 25s 2ms/sample - loss: 1.6981 - acc: 0.7046\n",
            "Epoch 55/100\n",
            "15462/15462 [==============================] - 24s 2ms/sample - loss: 1.6671 - acc: 0.7137\n",
            "Epoch 56/100\n",
            "15462/15462 [==============================] - 25s 2ms/sample - loss: 1.6504 - acc: 0.7110\n",
            "Epoch 57/100\n",
            "15462/15462 [==============================] - 25s 2ms/sample - loss: 1.6037 - acc: 0.7255\n",
            "Epoch 58/100\n",
            "15462/15462 [==============================] - 24s 2ms/sample - loss: 1.5658 - acc: 0.7329\n",
            "Epoch 59/100\n",
            "15462/15462 [==============================] - 24s 2ms/sample - loss: 1.5410 - acc: 0.7385\n",
            "Epoch 60/100\n",
            "15462/15462 [==============================] - 25s 2ms/sample - loss: 1.5049 - acc: 0.7443\n",
            "Epoch 61/100\n",
            "15462/15462 [==============================] - 24s 2ms/sample - loss: 1.4864 - acc: 0.7478\n",
            "Epoch 62/100\n",
            "15462/15462 [==============================] - 24s 2ms/sample - loss: 1.4526 - acc: 0.7544\n",
            "Epoch 63/100\n",
            "15462/15462 [==============================] - 24s 2ms/sample - loss: 1.4337 - acc: 0.7592\n",
            "Epoch 64/100\n",
            "15462/15462 [==============================] - 25s 2ms/sample - loss: 1.4082 - acc: 0.7635\n",
            "Epoch 65/100\n",
            "15462/15462 [==============================] - 24s 2ms/sample - loss: 1.3835 - acc: 0.7677\n",
            "Epoch 66/100\n",
            "15462/15462 [==============================] - 25s 2ms/sample - loss: 1.3719 - acc: 0.7666\n",
            "Epoch 67/100\n",
            "15462/15462 [==============================] - 25s 2ms/sample - loss: 1.3587 - acc: 0.7680\n",
            "Epoch 68/100\n",
            "15462/15462 [==============================] - 24s 2ms/sample - loss: 1.3209 - acc: 0.7734\n",
            "Epoch 69/100\n",
            "15462/15462 [==============================] - 24s 2ms/sample - loss: 1.3041 - acc: 0.7806\n",
            "Epoch 70/100\n",
            "15462/15462 [==============================] - 25s 2ms/sample - loss: 1.3075 - acc: 0.7749\n",
            "Epoch 71/100\n",
            "15462/15462 [==============================] - 25s 2ms/sample - loss: 1.2736 - acc: 0.7857\n",
            "Epoch 72/100\n",
            "15462/15462 [==============================] - 24s 2ms/sample - loss: 1.2567 - acc: 0.7887\n",
            "Epoch 73/100\n",
            "15462/15462 [==============================] - 25s 2ms/sample - loss: 1.2459 - acc: 0.7875\n",
            "Epoch 74/100\n",
            "15462/15462 [==============================] - 25s 2ms/sample - loss: 1.2280 - acc: 0.7912\n",
            "Epoch 75/100\n",
            "15462/15462 [==============================] - 25s 2ms/sample - loss: 1.2209 - acc: 0.7901\n",
            "Epoch 76/100\n",
            "15462/15462 [==============================] - 25s 2ms/sample - loss: 1.2212 - acc: 0.7908\n",
            "Epoch 77/100\n",
            "15462/15462 [==============================] - 25s 2ms/sample - loss: 1.1966 - acc: 0.7963\n",
            "Epoch 78/100\n",
            "15462/15462 [==============================] - 25s 2ms/sample - loss: 1.1785 - acc: 0.7964\n",
            "Epoch 79/100\n",
            "15462/15462 [==============================] - 24s 2ms/sample - loss: 1.1620 - acc: 0.8020\n",
            "Epoch 80/100\n",
            "15462/15462 [==============================] - 25s 2ms/sample - loss: 1.1576 - acc: 0.8007\n",
            "Epoch 81/100\n",
            "15462/15462 [==============================] - 24s 2ms/sample - loss: 1.1327 - acc: 0.8056\n",
            "Epoch 82/100\n",
            "15462/15462 [==============================] - 24s 2ms/sample - loss: 1.1205 - acc: 0.8065\n",
            "Epoch 83/100\n",
            "15462/15462 [==============================] - 25s 2ms/sample - loss: 1.1245 - acc: 0.8055\n",
            "Epoch 84/100\n",
            "15462/15462 [==============================] - 24s 2ms/sample - loss: 1.1283 - acc: 0.8014\n",
            "Epoch 85/100\n",
            "15462/15462 [==============================] - 24s 2ms/sample - loss: 1.1055 - acc: 0.8097\n",
            "Epoch 86/100\n",
            "15462/15462 [==============================] - 25s 2ms/sample - loss: 1.1027 - acc: 0.8080\n",
            "Epoch 87/100\n",
            "15462/15462 [==============================] - 25s 2ms/sample - loss: 1.0835 - acc: 0.8114\n",
            "Epoch 88/100\n",
            "15462/15462 [==============================] - 24s 2ms/sample - loss: 1.0763 - acc: 0.8110\n",
            "Epoch 89/100\n",
            "15462/15462 [==============================] - 25s 2ms/sample - loss: 1.0807 - acc: 0.8106\n",
            "Epoch 90/100\n",
            "15462/15462 [==============================] - 25s 2ms/sample - loss: 1.0502 - acc: 0.8174\n",
            "Epoch 91/100\n",
            "15462/15462 [==============================] - 25s 2ms/sample - loss: 1.0481 - acc: 0.8163\n",
            "Epoch 92/100\n",
            "15462/15462 [==============================] - 24s 2ms/sample - loss: 1.0301 - acc: 0.8180\n",
            "Epoch 93/100\n",
            "15462/15462 [==============================] - 25s 2ms/sample - loss: 1.0355 - acc: 0.8190\n",
            "Epoch 94/100\n",
            "15462/15462 [==============================] - 24s 2ms/sample - loss: 1.0330 - acc: 0.8142\n",
            "Epoch 95/100\n",
            "15462/15462 [==============================] - 25s 2ms/sample - loss: 1.0185 - acc: 0.8195\n",
            "Epoch 96/100\n",
            "15462/15462 [==============================] - 25s 2ms/sample - loss: 1.0287 - acc: 0.8187\n",
            "Epoch 97/100\n",
            "15462/15462 [==============================] - 24s 2ms/sample - loss: 1.0014 - acc: 0.8242\n",
            "Epoch 98/100\n",
            "15462/15462 [==============================] - 25s 2ms/sample - loss: 0.9994 - acc: 0.8231\n",
            "Epoch 99/100\n",
            "15462/15462 [==============================] - 25s 2ms/sample - loss: 0.9839 - acc: 0.8282\n",
            "Epoch 100/100\n",
            "15462/15462 [==============================] - 25s 2ms/sample - loss: 0.9721 - acc: 0.8296\n"
          ],
          "name": "stdout"
        }
      ]
    },
    {
      "cell_type": "code",
      "metadata": {
        "id": "1fXTEO3GJ282",
        "colab_type": "code",
        "colab": {
          "base_uri": "https://localhost:8080/",
          "height": 545
        },
        "outputId": "667ffb6f-ffdb-4cd8-8dd1-657545753eec"
      },
      "source": [
        "import matplotlib.pyplot as plt\n",
        "acc = history.history['acc']\n",
        "loss = history.history['loss']\n",
        "\n",
        "epochs = range(len(acc))\n",
        "\n",
        "plt.plot(epochs, acc, 'b', label='Training accuracy')\n",
        "plt.title('Training accuracy')\n",
        "\n",
        "plt.figure()\n",
        "\n",
        "plt.plot(epochs, loss, 'b', label='Training Loss')\n",
        "plt.title('Training loss')\n",
        "plt.legend()\n",
        "\n",
        "plt.show()"
      ],
      "execution_count": 5,
      "outputs": [
        {
          "output_type": "display_data",
          "data": {
            "image/png": "[encoded data removed]",
            "text/plain": [
              "<Figure size 432x288 with 1 Axes>"
            ]
          },
          "metadata": {
            "tags": []
          }
        },
        {
          "output_type": "display_data",
          "data": {
            "image/png": "[encoded data removed]",
            "text/plain": [
              "<Figure size 432x288 with 1 Axes>"
            ]
          },
          "metadata": {
            "tags": []
          }
        }
      ]
    },
    {
      "cell_type": "code",
      "metadata": {
        "id": "6Vc6PHgxa6Hm",
        "colab_type": "code",
        "colab": {
          "base_uri": "https://localhost:8080/",
          "height": 54
        },
        "outputId": "a8f5ced2-0954-479f-cbf7-0dfb38be59ba"
      },
      "source": [
        "seed_text = \"Help me Obi Wan Kenobi, you're my only hope\"\n",
        "next_words = 100\n",
        "  \n",
        "for _ in range(next_words):\n",
        "\ttoken_list = tokenizer.texts_to_sequences([seed_text])[0]\n",
        "\ttoken_list = pad_sequences([token_list], maxlen=max_sequence_len-1, padding='pre')\n",
        "\tpredicted = model.predict_classes(token_list, verbose=0)\n",
        "\toutput_word = \"\"\n",
        "\tfor word, index in tokenizer.word_index.items():\n",
        "\t\tif index == predicted:\n",
        "\t\t\toutput_word = word\n",
        "\t\t\tbreak\n",
        "\tseed_text += \" \" + output_word\n",
        "print(seed_text)"
      ],
      "execution_count": 6,
      "outputs": [
        {
          "output_type": "stream",
          "text": [
            "Help me Obi Wan Kenobi, you're my only hope lies still stay days date skill to place things found it must be foes growest remain set me new kind doth end ' be young to show thee better alone to stay false eyes to complain decay set new up in place out new or one must prove ' be favour to store thy wrong shall stand men still young ' doth happy dwell prove eyes than praise did had his air shall weep did prove away decay take them new be old old past ' buried praise shall approve her face new bright be place new bright ' in\n"
          ],
          "name": "stdout"
        }
      ]
    }
  ]
}