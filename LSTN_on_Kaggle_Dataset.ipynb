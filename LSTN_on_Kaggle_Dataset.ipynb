{
  "nbformat": 4,
  "nbformat_minor": 0,
  "metadata": {
    "colab": {
      "name": "LSTN on Kaggle Dataset.ipynb",
      "provenance": [],
      "include_colab_link": true
    },
    "kernelspec": {
      "name": "python3",
      "display_name": "Python 3"
    },
    "accelerator": "GPU"
  },
  "cells": [
    {
      "cell_type": "markdown",
      "metadata": {
        "id": "view-in-github",
        "colab_type": "text"
      },
      "source": [
        "<a href=\"https://colab.research.google.com/github/sunneysood/Tensorflow/blob/master/LSTN_on_Kaggle_Dataset.ipynb\" target=\"_parent\"><img src=\"https://colab.research.google.com/assets/colab-badge.svg\" alt=\"Open In Colab\"/></a>"
      ]
    },
    {
      "cell_type": "code",
      "metadata": {
        "id": "hmA6EzkQJ5jt",
        "colab_type": "code",
        "colab": {
          "base_uri": "https://localhost:8080/",
          "height": 62
        },
        "outputId": "b5c0e6ef-b3f5-4ed7-d68b-20af7b600572"
      },
      "source": [
        "import json\n",
        "import tensorflow as tf\n",
        "import csv\n",
        "import random\n",
        "import numpy as np\n",
        "\n",
        "from tensorflow.keras.preprocessing.text import Tokenizer\n",
        "from tensorflow.keras.preprocessing.sequence import pad_sequences\n",
        "from tensorflow.keras.utils import to_categorical\n",
        "from tensorflow.keras import regularizers\n",
        "\n",
        "\n",
        "embedding_dim = 100\n",
        "max_length = 16\n",
        "trunc_type='post'\n",
        "padding_type='post'\n",
        "oov_tok = \"<OOV>\"\n",
        "training_size=160000\n",
        "test_portion=.1\n",
        "\n",
        "corpus = []\n"
      ],
      "execution_count": 1,
      "outputs": [
        {
          "output_type": "display_data",
          "data": {
            "text/html": [
              "<p style=\"color: red;\">\n",
              "The default version of TensorFlow in Colab will soon switch to TensorFlow 2.x.<br>\n",
              "We recommend you <a href=\"https://www.tensorflow.org/guide/migrate\" target=\"_blank\">upgrade</a> now \n",
              "or ensure your notebook will continue to use TensorFlow 1.x via the <code>%tensorflow_version 1.x</code> magic:\n",
              "<a href=\"https://colab.research.google.com/notebooks/tensorflow_version.ipynb\" target=\"_blank\">more info</a>.</p>\n"
            ],
            "text/plain": [
              "<IPython.core.display.HTML object>"
            ]
          },
          "metadata": {
            "tags": []
          }
        }
      ]
    },
    {
      "cell_type": "code",
      "metadata": {
        "id": "bM0l_dORKqE0",
        "colab_type": "code",
        "outputId": "79c8a7f1-146c-495a-9940-f272b467af31",
        "colab": {
          "base_uri": "https://localhost:8080/",
          "height": 202
        }
      },
      "source": [
        "\n",
        "# Note that I cleaned the Stanford dataset to remove LATIN1 encoding to make it easier for Python CSV reader\n",
        "# You can do that yourself with:\n",
        "# iconv -f LATIN1 -t UTF8 training.1600000.processed.noemoticon.csv -o training_cleaned.csv\n",
        "# I then hosted it on my site to make it easier to use in this notebook\n",
        "\n",
        "!wget --no-check-certificate \\\n",
        "    https://storage.googleapis.com/laurencemoroney-blog.appspot.com/training_cleaned.csv \\\n",
        "    -O /tmp/training_cleaned.csv\n",
        "\n",
        "num_sentences = 0\n",
        "\n",
        "with open(\"/tmp/training_cleaned.csv\") as csvfile:\n",
        "    reader = csv.reader(csvfile, delimiter=',')\n",
        "    for row in reader:\n",
        "      # Your Code here. Create list items where the first item is the text, found in row[5], and the second is the label. Note that the label is a '0' or a '4' in the text. When it's the former, make\n",
        "      # your label to be 0, otherwise 1. Keep a count of the number of sentences in num_sentences\n",
        "        list_item=[]\n",
        "        # YOUR CODE HERE\n",
        "        list_item.append(row[5])\n",
        "        this_label=row[0]\n",
        "        if this_label=='0':\n",
        "            list_item.append(0)\n",
        "        else:\n",
        "            list_item.append(1)\n",
        "        num_sentences = num_sentences + 1\n",
        "        corpus.append(list_item)\n",
        "\n",
        "\n"
      ],
      "execution_count": 2,
      "outputs": [
        {
          "output_type": "stream",
          "text": [
            "--2019-11-25 07:32:30--  https://storage.googleapis.com/laurencemoroney-blog.appspot.com/training_cleaned.csv\n",
            "Resolving storage.googleapis.com (storage.googleapis.com)... 74.125.142.128, 2607:f8b0:400e:c09::80\n",
            "Connecting to storage.googleapis.com (storage.googleapis.com)|74.125.142.128|:443... connected.\n",
            "HTTP request sent, awaiting response... 200 OK\n",
            "Length: 238942690 (228M) [application/octet-stream]\n",
            "Saving to: ‘/tmp/training_cleaned.csv’\n",
            "\n",
            "/tmp/training_clean 100%[===================>] 227.87M   184MB/s    in 1.2s    \n",
            "\n",
            "2019-11-25 07:32:31 (184 MB/s) - ‘/tmp/training_cleaned.csv’ saved [238942690/238942690]\n",
            "\n"
          ],
          "name": "stdout"
        }
      ]
    },
    {
      "cell_type": "code",
      "metadata": {
        "id": "3kxblBUjEUX-",
        "colab_type": "code",
        "outputId": "0a36f35f-90f1-4e92-f6e3-6cb731111ff7",
        "colab": {
          "base_uri": "https://localhost:8080/",
          "height": 67
        }
      },
      "source": [
        "print(num_sentences)\n",
        "print(len(corpus))\n",
        "print(corpus[1])\n",
        "\n",
        "# Expected Output:\n",
        "# 1600000\n",
        "# 1600000\n",
        "# [\"is upset that he can't update his Facebook by texting it... and might cry as a result  School today also. Blah!\", 0]"
      ],
      "execution_count": 3,
      "outputs": [
        {
          "output_type": "stream",
          "text": [
            "1600000\n",
            "1600000\n",
            "[\"is upset that he can't update his Facebook by texting it... and might cry as a result  School today also. Blah!\", 0]\n"
          ],
          "name": "stdout"
        }
      ]
    },
    {
      "cell_type": "code",
      "metadata": {
        "id": "ohOGz24lsNAD",
        "colab_type": "code",
        "colab": {}
      },
      "source": [
        "sentences=[]\n",
        "labels=[]\n",
        "random.shuffle(corpus)\n",
        "for x in range(training_size):\n",
        "    sentences.append(corpus[x][0])\n",
        "    labels.append(corpus[x][1])\n",
        "\n",
        "\n",
        "tokenizer = Tokenizer()\n",
        "tokenizer.fit_on_texts(sentences)\n",
        "\n",
        "word_index = tokenizer.word_index\n",
        "vocab_size=len(word_index)\n",
        "\n",
        "sequences = tokenizer.texts_to_sequences(sentences)\n",
        "padded = pad_sequences(sequences,maxlen=max_length, padding=padding_type, truncating=trunc_type)\n",
        "\n",
        "split = int(test_portion * training_size)\n",
        "\n",
        "test_sequences = padded[0:split]\n",
        "training_sequences = padded[split:training_size]\n",
        "test_labels = labels[0:split]\n",
        "training_labels = labels[split:training_size]"
      ],
      "execution_count": 0,
      "outputs": []
    },
    {
      "cell_type": "code",
      "metadata": {
        "id": "gIrtRem1En3N",
        "colab_type": "code",
        "outputId": "a45aef73-2195-4c45-fa75-2f3b31d22e60",
        "colab": {
          "base_uri": "https://localhost:8080/",
          "height": 50
        }
      },
      "source": [
        "print(vocab_size)\n",
        "print(word_index['i'])\n",
        "# Expected Output\n",
        "# 138858\n",
        "# 1"
      ],
      "execution_count": 5,
      "outputs": [
        {
          "output_type": "stream",
          "text": [
            "138555\n",
            "1\n"
          ],
          "name": "stdout"
        }
      ]
    },
    {
      "cell_type": "code",
      "metadata": {
        "id": "C1zdgJkusRh0",
        "colab_type": "code",
        "outputId": "f5054e50-5ee6-4ad5-9c13-0c744f446cb0",
        "colab": {
          "base_uri": "https://localhost:8080/",
          "height": 202
        }
      },
      "source": [
        "# Note this is the 100 dimension version of GloVe from Stanford\n",
        "# I unzipped and hosted it on my site to make this notebook easier\n",
        "!wget --no-check-certificate \\\n",
        "    https://storage.googleapis.com/laurencemoroney-blog.appspot.com/glove.6B.100d.txt \\\n",
        "    -O /tmp/glove.6B.100d.txt\n",
        "embeddings_index = {};\n",
        "with open('/tmp/glove.6B.100d.txt') as f:\n",
        "    for line in f:\n",
        "        values = line.split();\n",
        "        word = values[0];\n",
        "        coefs = np.asarray(values[1:], dtype='float32');\n",
        "        embeddings_index[word] = coefs;\n",
        "\n",
        "embeddings_matrix = np.zeros((vocab_size+1, embedding_dim));\n",
        "for word, i in word_index.items():\n",
        "    embedding_vector = embeddings_index.get(word);\n",
        "    if embedding_vector is not None:\n",
        "        embeddings_matrix[i] = embedding_vector;"
      ],
      "execution_count": 6,
      "outputs": [
        {
          "output_type": "stream",
          "text": [
            "--2019-11-25 08:02:49--  https://storage.googleapis.com/laurencemoroney-blog.appspot.com/glove.6B.100d.txt\n",
            "Resolving storage.googleapis.com (storage.googleapis.com)... 74.125.142.128, 2607:f8b0:400e:c09::80\n",
            "Connecting to storage.googleapis.com (storage.googleapis.com)|74.125.142.128|:443... connected.\n",
            "HTTP request sent, awaiting response... 200 OK\n",
            "Length: 347116733 (331M) [text/plain]\n",
            "Saving to: ‘/tmp/glove.6B.100d.txt’\n",
            "\n",
            "/tmp/glove.6B.100d. 100%[===================>] 331.04M   165MB/s    in 2.0s    \n",
            "\n",
            "2019-11-25 08:02:51 (165 MB/s) - ‘/tmp/glove.6B.100d.txt’ saved [347116733/347116733]\n",
            "\n"
          ],
          "name": "stdout"
        }
      ]
    },
    {
      "cell_type": "code",
      "metadata": {
        "id": "71NLk_lpFLNt",
        "colab_type": "code",
        "outputId": "b8235586-9223-46dd-f460-1506b9e1fb72",
        "colab": {
          "base_uri": "https://localhost:8080/",
          "height": 34
        }
      },
      "source": [
        "print(len(embeddings_matrix))\n",
        "# Expected Output\n",
        "# 138859"
      ],
      "execution_count": 7,
      "outputs": [
        {
          "output_type": "stream",
          "text": [
            "138556\n"
          ],
          "name": "stdout"
        }
      ]
    },
    {
      "cell_type": "code",
      "metadata": {
        "colab_type": "code",
        "id": "iKKvbuEBOGFz",
        "colab": {
          "base_uri": "https://localhost:8080/",
          "height": 1000
        },
        "outputId": "e48c82c6-9885-408b-a034-47ba72fc57b6"
      },
      "source": [
        "model = tf.keras.Sequential([\n",
        "    tf.keras.layers.Embedding(vocab_size+1, embedding_dim, input_length=max_length, weights=[embeddings_matrix], trainable=False),\n",
        "    # YOUR CODE HERE - experiment with combining different types, such as convolutions and LSTMs\n",
        "    tf.keras.layers.Dropout(0.2),\n",
        "    tf.keras.layers.Conv1D(64, 5, activation='relu'),\n",
        "    tf.keras.layers.MaxPooling1D(pool_size=4),\n",
        "    tf.keras.layers.LSTM(64),\n",
        "    tf.keras.layers.Dense(1, activation='sigmoid')\n",
        "])\n",
        "model.compile(loss='binary_crossentropy',optimizer='adam',metrics=['accuracy'])\n",
        "model.summary()\n",
        "\n",
        "num_epochs = 50\n",
        "history = model.fit(training_sequences, training_labels, epochs=num_epochs, validation_data=(test_sequences, test_labels), verbose=2)\n",
        "\n",
        "print(\"Training Complete\")\n"
      ],
      "execution_count": 8,
      "outputs": [
        {
          "output_type": "stream",
          "text": [
            "WARNING:tensorflow:From /usr/local/lib/python3.6/dist-packages/tensorflow_core/python/keras/initializers.py:119: calling RandomUniform.__init__ (from tensorflow.python.ops.init_ops) with dtype is deprecated and will be removed in a future version.\n",
            "Instructions for updating:\n",
            "Call initializer instance with the dtype argument instead of passing it to the constructor\n",
            "WARNING:tensorflow:From /usr/local/lib/python3.6/dist-packages/tensorflow_core/python/ops/resource_variable_ops.py:1630: calling BaseResourceVariable.__init__ (from tensorflow.python.ops.resource_variable_ops) with constraint is deprecated and will be removed in a future version.\n",
            "Instructions for updating:\n",
            "If using Keras pass *_constraint arguments to layers.\n",
            "WARNING:tensorflow:From /usr/local/lib/python3.6/dist-packages/tensorflow_core/python/ops/nn_impl.py:183: where (from tensorflow.python.ops.array_ops) is deprecated and will be removed in a future version.\n",
            "Instructions for updating:\n",
            "Use tf.where in 2.0, which has the same broadcast rule as np.where\n",
            "Model: \"sequential\"\n",
            "_________________________________________________________________\n",
            "Layer (type)                 Output Shape              Param #   \n",
            "=================================================================\n",
            "embedding (Embedding)        (None, 16, 100)           13855600  \n",
            "_________________________________________________________________\n",
            "dropout (Dropout)            (None, 16, 100)           0         \n",
            "_________________________________________________________________\n",
            "conv1d (Conv1D)              (None, 12, 64)            32064     \n",
            "_________________________________________________________________\n",
            "max_pooling1d (MaxPooling1D) (None, 3, 64)             0         \n",
            "_________________________________________________________________\n",
            "lstm (LSTM)                  (None, 64)                33024     \n",
            "_________________________________________________________________\n",
            "dense (Dense)                (None, 1)                 65        \n",
            "=================================================================\n",
            "Total params: 13,920,753\n",
            "Trainable params: 65,153\n",
            "Non-trainable params: 13,855,600\n",
            "_________________________________________________________________\n",
            "Train on 144000 samples, validate on 16000 samples\n",
            "Epoch 1/50\n",
            "144000/144000 - 34s - loss: 0.5680 - acc: 0.6990 - val_loss: 0.5285 - val_acc: 0.7299\n",
            "Epoch 2/50\n",
            "144000/144000 - 30s - loss: 0.5284 - acc: 0.7306 - val_loss: 0.5127 - val_acc: 0.7425\n",
            "Epoch 3/50\n",
            "144000/144000 - 30s - loss: 0.5107 - acc: 0.7442 - val_loss: 0.5100 - val_acc: 0.7420\n",
            "Epoch 4/50\n",
            "144000/144000 - 30s - loss: 0.4986 - acc: 0.7520 - val_loss: 0.5037 - val_acc: 0.7489\n",
            "Epoch 5/50\n",
            "144000/144000 - 30s - loss: 0.4914 - acc: 0.7559 - val_loss: 0.5064 - val_acc: 0.7476\n",
            "Epoch 6/50\n",
            "144000/144000 - 30s - loss: 0.4837 - acc: 0.7623 - val_loss: 0.5015 - val_acc: 0.7481\n",
            "Epoch 7/50\n",
            "144000/144000 - 29s - loss: 0.4790 - acc: 0.7647 - val_loss: 0.4986 - val_acc: 0.7536\n",
            "Epoch 8/50\n",
            "144000/144000 - 29s - loss: 0.4729 - acc: 0.7693 - val_loss: 0.5045 - val_acc: 0.7499\n",
            "Epoch 9/50\n",
            "144000/144000 - 30s - loss: 0.4693 - acc: 0.7716 - val_loss: 0.5018 - val_acc: 0.7498\n",
            "Epoch 10/50\n",
            "144000/144000 - 29s - loss: 0.4651 - acc: 0.7736 - val_loss: 0.5020 - val_acc: 0.7526\n",
            "Epoch 11/50\n",
            "144000/144000 - 29s - loss: 0.4624 - acc: 0.7764 - val_loss: 0.5070 - val_acc: 0.7511\n",
            "Epoch 12/50\n",
            "144000/144000 - 29s - loss: 0.4584 - acc: 0.7786 - val_loss: 0.5081 - val_acc: 0.7491\n",
            "Epoch 13/50\n",
            "144000/144000 - 29s - loss: 0.4574 - acc: 0.7789 - val_loss: 0.5045 - val_acc: 0.7488\n",
            "Epoch 14/50\n",
            "144000/144000 - 29s - loss: 0.4543 - acc: 0.7810 - val_loss: 0.5131 - val_acc: 0.7495\n",
            "Epoch 15/50\n",
            "144000/144000 - 29s - loss: 0.4517 - acc: 0.7823 - val_loss: 0.5084 - val_acc: 0.7449\n",
            "Epoch 16/50\n",
            "144000/144000 - 30s - loss: 0.4495 - acc: 0.7833 - val_loss: 0.5111 - val_acc: 0.7502\n",
            "Epoch 17/50\n",
            "144000/144000 - 29s - loss: 0.4475 - acc: 0.7840 - val_loss: 0.5093 - val_acc: 0.7491\n",
            "Epoch 18/50\n",
            "144000/144000 - 29s - loss: 0.4466 - acc: 0.7851 - val_loss: 0.5222 - val_acc: 0.7448\n",
            "Epoch 19/50\n",
            "144000/144000 - 29s - loss: 0.4457 - acc: 0.7848 - val_loss: 0.5084 - val_acc: 0.7491\n",
            "Epoch 20/50\n",
            "144000/144000 - 29s - loss: 0.4437 - acc: 0.7870 - val_loss: 0.5090 - val_acc: 0.7464\n",
            "Epoch 21/50\n",
            "144000/144000 - 29s - loss: 0.4430 - acc: 0.7871 - val_loss: 0.5128 - val_acc: 0.7449\n",
            "Epoch 22/50\n",
            "144000/144000 - 29s - loss: 0.4413 - acc: 0.7871 - val_loss: 0.5182 - val_acc: 0.7462\n",
            "Epoch 23/50\n",
            "144000/144000 - 29s - loss: 0.4403 - acc: 0.7880 - val_loss: 0.5154 - val_acc: 0.7468\n",
            "Epoch 24/50\n",
            "144000/144000 - 29s - loss: 0.4390 - acc: 0.7885 - val_loss: 0.5140 - val_acc: 0.7483\n",
            "Epoch 25/50\n",
            "144000/144000 - 29s - loss: 0.4371 - acc: 0.7905 - val_loss: 0.5152 - val_acc: 0.7507\n",
            "Epoch 26/50\n",
            "144000/144000 - 29s - loss: 0.4380 - acc: 0.7913 - val_loss: 0.5169 - val_acc: 0.7464\n",
            "Epoch 27/50\n",
            "144000/144000 - 29s - loss: 0.4366 - acc: 0.7913 - val_loss: 0.5185 - val_acc: 0.7473\n",
            "Epoch 28/50\n",
            "144000/144000 - 29s - loss: 0.4372 - acc: 0.7916 - val_loss: 0.5191 - val_acc: 0.7489\n",
            "Epoch 29/50\n",
            "144000/144000 - 29s - loss: 0.4347 - acc: 0.7924 - val_loss: 0.5223 - val_acc: 0.7414\n",
            "Epoch 30/50\n",
            "144000/144000 - 29s - loss: 0.4348 - acc: 0.7926 - val_loss: 0.5156 - val_acc: 0.7480\n",
            "Epoch 31/50\n",
            "144000/144000 - 29s - loss: 0.4356 - acc: 0.7920 - val_loss: 0.5177 - val_acc: 0.7423\n",
            "Epoch 32/50\n",
            "144000/144000 - 29s - loss: 0.4341 - acc: 0.7927 - val_loss: 0.5233 - val_acc: 0.7427\n",
            "Epoch 33/50\n",
            "144000/144000 - 29s - loss: 0.4344 - acc: 0.7926 - val_loss: 0.5226 - val_acc: 0.7458\n",
            "Epoch 34/50\n",
            "144000/144000 - 29s - loss: 0.4323 - acc: 0.7933 - val_loss: 0.5207 - val_acc: 0.7453\n",
            "Epoch 35/50\n",
            "144000/144000 - 29s - loss: 0.4329 - acc: 0.7932 - val_loss: 0.5205 - val_acc: 0.7469\n",
            "Epoch 36/50\n",
            "144000/144000 - 29s - loss: 0.4325 - acc: 0.7935 - val_loss: 0.5202 - val_acc: 0.7464\n",
            "Epoch 37/50\n",
            "144000/144000 - 29s - loss: 0.4322 - acc: 0.7939 - val_loss: 0.5214 - val_acc: 0.7465\n",
            "Epoch 38/50\n",
            "144000/144000 - 29s - loss: 0.4322 - acc: 0.7928 - val_loss: 0.5151 - val_acc: 0.7471\n",
            "Epoch 39/50\n",
            "144000/144000 - 29s - loss: 0.4308 - acc: 0.7940 - val_loss: 0.5239 - val_acc: 0.7456\n",
            "Epoch 40/50\n",
            "144000/144000 - 29s - loss: 0.4308 - acc: 0.7947 - val_loss: 0.5240 - val_acc: 0.7434\n",
            "Epoch 41/50\n",
            "144000/144000 - 29s - loss: 0.4313 - acc: 0.7946 - val_loss: 0.5224 - val_acc: 0.7453\n",
            "Epoch 42/50\n",
            "144000/144000 - 29s - loss: 0.4304 - acc: 0.7950 - val_loss: 0.5204 - val_acc: 0.7423\n",
            "Epoch 43/50\n",
            "144000/144000 - 29s - loss: 0.4302 - acc: 0.7951 - val_loss: 0.5180 - val_acc: 0.7470\n",
            "Epoch 44/50\n",
            "144000/144000 - 29s - loss: 0.4307 - acc: 0.7946 - val_loss: 0.5244 - val_acc: 0.7447\n",
            "Epoch 45/50\n",
            "144000/144000 - 29s - loss: 0.4312 - acc: 0.7943 - val_loss: 0.5248 - val_acc: 0.7461\n",
            "Epoch 46/50\n",
            "144000/144000 - 29s - loss: 0.4287 - acc: 0.7971 - val_loss: 0.5218 - val_acc: 0.7453\n",
            "Epoch 47/50\n",
            "144000/144000 - 29s - loss: 0.4293 - acc: 0.7958 - val_loss: 0.5338 - val_acc: 0.7469\n",
            "Epoch 48/50\n",
            "144000/144000 - 29s - loss: 0.4271 - acc: 0.7963 - val_loss: 0.5262 - val_acc: 0.7460\n",
            "Epoch 49/50\n",
            "144000/144000 - 29s - loss: 0.4293 - acc: 0.7948 - val_loss: 0.5281 - val_acc: 0.7418\n",
            "Epoch 50/50\n",
            "144000/144000 - 29s - loss: 0.4282 - acc: 0.7963 - val_loss: 0.5237 - val_acc: 0.7458\n",
            "Training Complete\n"
          ],
          "name": "stdout"
        }
      ]
    },
    {
      "cell_type": "code",
      "metadata": {
        "id": "qxju4ItJKO8F",
        "colab_type": "code",
        "colab": {
          "base_uri": "https://localhost:8080/",
          "height": 606
        },
        "outputId": "8f838e97-a62a-45ab-cac5-3bc92f28cda2"
      },
      "source": [
        "import matplotlib.image  as mpimg\n",
        "import matplotlib.pyplot as plt\n",
        "\n",
        "#-----------------------------------------------------------\n",
        "# Retrieve a list of list results on training and test data\n",
        "# sets for each training epoch\n",
        "#-----------------------------------------------------------\n",
        "acc=history.history['acc']\n",
        "val_acc=history.history['val_acc']\n",
        "loss=history.history['loss']\n",
        "val_loss=history.history['val_loss']\n",
        "\n",
        "epochs=range(len(acc)) # Get number of epochs\n",
        "\n",
        "#------------------------------------------------\n",
        "# Plot training and validation accuracy per epoch\n",
        "#------------------------------------------------\n",
        "plt.plot(epochs, acc, 'r')\n",
        "plt.plot(epochs, val_acc, 'b')\n",
        "plt.title('Training and validation accuracy')\n",
        "plt.xlabel(\"Epochs\")\n",
        "plt.ylabel(\"Accuracy\")\n",
        "plt.legend([\"Accuracy\", \"Validation Accuracy\"])\n",
        "\n",
        "plt.figure()\n",
        "\n",
        "#------------------------------------------------\n",
        "# Plot training and validation loss per epoch\n",
        "#------------------------------------------------\n",
        "plt.plot(epochs, loss, 'r')\n",
        "plt.plot(epochs, val_loss, 'b')\n",
        "plt.title('Training and validation loss')\n",
        "plt.xlabel(\"Epochs\")\n",
        "plt.ylabel(\"Loss\")\n",
        "plt.legend([\"Loss\", \"Validation Loss\"])\n",
        "\n",
        "plt.figure()\n",
        "\n",
        "\n",
        "# Expected Output\n",
        "# A chart where the validation loss does not increase sharply!"
      ],
      "execution_count": 9,
      "outputs": [
        {
          "output_type": "execute_result",
          "data": {
            "text/plain": [
              "<Figure size 432x288 with 0 Axes>"
            ]
          },
          "metadata": {
            "tags": []
          },
          "execution_count": 9
        },
        {
          "output_type": "display_data",
          "data": {
            "image/png": "[encoded data removed]",
            "text/plain": [
              "<Figure size 432x288 with 1 Axes>"
            ]
          },
          "metadata": {
            "tags": []
          }
        },
        {
          "output_type": "display_data",
          "data": {
            "image/png": "[encoded data removed]",
            "text/plain": [
              "<Figure size 432x288 with 1 Axes>"
            ]
          },
          "metadata": {
            "tags": []
          }
        },
        {
          "output_type": "display_data",
          "data": {
            "text/plain": [
              "<Figure size 432x288 with 0 Axes>"
            ]
          },
          "metadata": {
            "tags": []
          }
        }
      ]
    },
    {
      "cell_type": "code",
      "metadata": {
        "id": "E7-l6z7isE5E",
        "colab_type": "code",
        "colab": {}
      },
      "source": [
        ""
      ],
      "execution_count": 0,
      "outputs": []
    }
  ]
}