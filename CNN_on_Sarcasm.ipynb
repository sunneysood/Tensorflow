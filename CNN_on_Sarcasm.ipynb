{
  "nbformat": 4,
  "nbformat_minor": 0,
  "metadata": {
    "colab": {
      "name": "CNN on Sarcasm.ipynb",
      "provenance": [],
      "collapsed_sections": [],
      "include_colab_link": true
    },
    "kernelspec": {
      "name": "python3",
      "display_name": "Python 3"
    },
    "accelerator": "GPU"
  },
  "cells": [
    {
      "cell_type": "markdown",
      "metadata": {
        "id": "view-in-github",
        "colab_type": "text"
      },
      "source": [
        "<a href=\"https://colab.research.google.com/github/sunneysood/Tensorflow/blob/master/CNN_on_Sarcasm.ipynb\" target=\"_parent\"><img src=\"https://colab.research.google.com/assets/colab-badge.svg\" alt=\"Open In Colab\"/></a>"
      ]
    },
    {
      "cell_type": "code",
      "metadata": {
        "id": "jGwXGIXvFhXW",
        "colab_type": "code",
        "outputId": "d5cd2a71-e6cf-4ef5-db7e-760332c3a2e7",
        "colab": {
          "base_uri": "https://localhost:8080/",
          "height": 1000
        }
      },
      "source": [
        "import json\n",
        "import tensorflow as tf\n",
        "\n",
        "from tensorflow.keras.preprocessing.text import Tokenizer\n",
        "from tensorflow.keras.preprocessing.sequence import pad_sequences\n",
        "\n",
        "!wget --no-check-certificate \\\n",
        "    https://storage.googleapis.com/laurencemoroney-blog.appspot.com/sarcasm.json \\\n",
        "    -O /tmp/sarcasm.json\n",
        "\n",
        "vocab_size = 1000\n",
        "embedding_dim = 16\n",
        "max_length = 120\n",
        "trunc_type='post'\n",
        "padding_type='post'\n",
        "oov_tok = \"<OOV>\"\n",
        "training_size = 20000\n",
        "\n",
        "\n",
        "with open(\"/tmp/sarcasm.json\", 'r') as f:\n",
        "    datastore = json.load(f)\n",
        "\n",
        "\n",
        "sentences = []\n",
        "labels = []\n",
        "urls = []\n",
        "for item in datastore:\n",
        "    sentences.append(item['headline'])\n",
        "    labels.append(item['is_sarcastic'])\n",
        "\n",
        "training_sentences = sentences[0:training_size]\n",
        "testing_sentences = sentences[training_size:]\n",
        "training_labels = labels[0:training_size]\n",
        "testing_labels = labels[training_size:]\n",
        "\n",
        "tokenizer = Tokenizer(num_words=vocab_size, oov_token=oov_tok)\n",
        "tokenizer.fit_on_texts(training_sentences)\n",
        "\n",
        "word_index = tokenizer.word_index\n",
        "\n",
        "training_sequences = tokenizer.texts_to_sequences(training_sentences)\n",
        "training_padded = pad_sequences(training_sequences, maxlen=max_length, padding=padding_type, truncating=trunc_type)\n",
        "\n",
        "testing_sequences = tokenizer.texts_to_sequences(testing_sentences)\n",
        "testing_padded = pad_sequences(testing_sequences, maxlen=max_length, padding=padding_type, truncating=trunc_type)\n",
        "\n",
        "model = tf.keras.Sequential([\n",
        "    tf.keras.layers.Embedding(vocab_size, embedding_dim, input_length=max_length),\n",
        "    tf.keras.layers.Conv1D(128, 5, activation='relu'),\n",
        "    tf.keras.layers.GlobalMaxPooling1D(),\n",
        "    tf.keras.layers.Dense(24, activation='relu'),\n",
        "    tf.keras.layers.Dense(1, activation='sigmoid')\n",
        "])\n",
        "model.compile(loss='binary_crossentropy',optimizer='adam',metrics=['accuracy'])\n",
        "model.summary()\n",
        "\n",
        "num_epochs = 50\n",
        "history = model.fit(training_padded, training_labels, epochs=num_epochs, validation_data=(testing_padded, testing_labels), verbose=1)\n",
        "\n"
      ],
      "execution_count": 0,
      "outputs": [
        {
          "output_type": "display_data",
          "data": {
            "text/html": [
              "<p style=\"color: red;\">\n",
              "The default version of TensorFlow in Colab will soon switch to TensorFlow 2.x.<br>\n",
              "We recommend you <a href=\"https://www.tensorflow.org/guide/migrate\" target=\"_blank\">upgrade</a> now \n",
              "or ensure your notebook will continue to use TensorFlow 1.x via the <code>%tensorflow_version 1.x</code> magic:\n",
              "<a href=\"https://colab.research.google.com/notebooks/tensorflow_version.ipynb\" target=\"_blank\">more info</a>.</p>\n"
            ],
            "text/plain": [
              "<IPython.core.display.HTML object>"
            ]
          },
          "metadata": {
            "tags": []
          }
        },
        {
          "output_type": "stream",
          "text": [
            "--2019-11-25 07:09:07--  https://storage.googleapis.com/laurencemoroney-blog.appspot.com/sarcasm.json\n",
            "Resolving storage.googleapis.com (storage.googleapis.com)... 108.177.15.128, 2a00:1450:400c:c0a::80\n",
            "Connecting to storage.googleapis.com (storage.googleapis.com)|108.177.15.128|:443... connected.\n",
            "HTTP request sent, awaiting response... 200 OK\n",
            "Length: 5643545 (5.4M) [application/json]\n",
            "Saving to: ‘/tmp/sarcasm.json’\n",
            "\n",
            "\r/tmp/sarcasm.json     0%[                    ]       0  --.-KB/s               \r/tmp/sarcasm.json   100%[===================>]   5.38M  --.-KB/s    in 0.03s   \n",
            "\n",
            "2019-11-25 07:09:07 (178 MB/s) - ‘/tmp/sarcasm.json’ saved [5643545/5643545]\n",
            "\n",
            "WARNING:tensorflow:From /usr/local/lib/python3.6/dist-packages/tensorflow_core/python/keras/initializers.py:119: calling RandomUniform.__init__ (from tensorflow.python.ops.init_ops) with dtype is deprecated and will be removed in a future version.\n",
            "Instructions for updating:\n",
            "Call initializer instance with the dtype argument instead of passing it to the constructor\n",
            "WARNING:tensorflow:From /usr/local/lib/python3.6/dist-packages/tensorflow_core/python/ops/resource_variable_ops.py:1630: calling BaseResourceVariable.__init__ (from tensorflow.python.ops.resource_variable_ops) with constraint is deprecated and will be removed in a future version.\n",
            "Instructions for updating:\n",
            "If using Keras pass *_constraint arguments to layers.\n",
            "WARNING:tensorflow:From /usr/local/lib/python3.6/dist-packages/tensorflow_core/python/ops/nn_impl.py:183: where (from tensorflow.python.ops.array_ops) is deprecated and will be removed in a future version.\n",
            "Instructions for updating:\n",
            "Use tf.where in 2.0, which has the same broadcast rule as np.where\n",
            "Model: \"sequential\"\n",
            "_________________________________________________________________\n",
            "Layer (type)                 Output Shape              Param #   \n",
            "=================================================================\n",
            "embedding (Embedding)        (None, 120, 16)           16000     \n",
            "_________________________________________________________________\n",
            "conv1d (Conv1D)              (None, 116, 128)          10368     \n",
            "_________________________________________________________________\n",
            "global_max_pooling1d (Global (None, 128)               0         \n",
            "_________________________________________________________________\n",
            "dense (Dense)                (None, 24)                3096      \n",
            "_________________________________________________________________\n",
            "dense_1 (Dense)              (None, 1)                 25        \n",
            "=================================================================\n",
            "Total params: 29,489\n",
            "Trainable params: 29,489\n",
            "Non-trainable params: 0\n",
            "_________________________________________________________________\n",
            "Train on 20000 samples, validate on 6709 samples\n",
            "Epoch 1/50\n",
            "20000/20000 [==============================] - 7s 354us/sample - loss: 0.4654 - acc: 0.7686 - val_loss: 0.4122 - val_acc: 0.8126\n",
            "Epoch 2/50\n",
            "20000/20000 [==============================] - 4s 193us/sample - loss: 0.3584 - acc: 0.8404 - val_loss: 0.3984 - val_acc: 0.8192\n",
            "Epoch 3/50\n",
            "20000/20000 [==============================] - 4s 188us/sample - loss: 0.3184 - acc: 0.8593 - val_loss: 0.3945 - val_acc: 0.8259\n",
            "Epoch 4/50\n",
            "20000/20000 [==============================] - 4s 193us/sample - loss: 0.2843 - acc: 0.8763 - val_loss: 0.4089 - val_acc: 0.8159\n",
            "Epoch 5/50\n",
            "20000/20000 [==============================] - 4s 193us/sample - loss: 0.2496 - acc: 0.8932 - val_loss: 0.4265 - val_acc: 0.8156\n",
            "Epoch 6/50\n",
            "20000/20000 [==============================] - 4s 196us/sample - loss: 0.2154 - acc: 0.9135 - val_loss: 0.4614 - val_acc: 0.8146\n",
            "Epoch 7/50\n",
            "20000/20000 [==============================] - 4s 203us/sample - loss: 0.1823 - acc: 0.9283 - val_loss: 0.5133 - val_acc: 0.8144\n",
            "Epoch 8/50\n",
            "20000/20000 [==============================] - 4s 197us/sample - loss: 0.1502 - acc: 0.9427 - val_loss: 0.5704 - val_acc: 0.8076\n",
            "Epoch 9/50\n",
            "20000/20000 [==============================] - 4s 192us/sample - loss: 0.1220 - acc: 0.9546 - val_loss: 0.6511 - val_acc: 0.8043\n",
            "Epoch 10/50\n",
            "20000/20000 [==============================] - 4s 189us/sample - loss: 0.0986 - acc: 0.9643 - val_loss: 0.7300 - val_acc: 0.7970\n",
            "Epoch 11/50\n",
            "20000/20000 [==============================] - 4s 189us/sample - loss: 0.0834 - acc: 0.9692 - val_loss: 0.8297 - val_acc: 0.7943\n",
            "Epoch 12/50\n",
            "20000/20000 [==============================] - 4s 190us/sample - loss: 0.0708 - acc: 0.9750 - val_loss: 0.9251 - val_acc: 0.7928\n",
            "Epoch 13/50\n",
            "20000/20000 [==============================] - 4s 193us/sample - loss: 0.0605 - acc: 0.9776 - val_loss: 0.9963 - val_acc: 0.7934\n",
            "Epoch 14/50\n",
            "20000/20000 [==============================] - 4s 191us/sample - loss: 0.0539 - acc: 0.9805 - val_loss: 1.0907 - val_acc: 0.7916\n",
            "Epoch 15/50\n",
            "20000/20000 [==============================] - 4s 191us/sample - loss: 0.0467 - acc: 0.9831 - val_loss: 1.1208 - val_acc: 0.7918\n",
            "Epoch 16/50\n",
            "20000/20000 [==============================] - 4s 193us/sample - loss: 0.0449 - acc: 0.9826 - val_loss: 1.2193 - val_acc: 0.7924\n",
            "Epoch 17/50\n",
            "20000/20000 [==============================] - 4s 193us/sample - loss: 0.0418 - acc: 0.9845 - val_loss: 1.3208 - val_acc: 0.7874\n",
            "Epoch 18/50\n",
            "20000/20000 [==============================] - 4s 189us/sample - loss: 0.0375 - acc: 0.9864 - val_loss: 1.3783 - val_acc: 0.7907\n",
            "Epoch 19/50\n",
            "20000/20000 [==============================] - 4s 194us/sample - loss: 0.0331 - acc: 0.9868 - val_loss: 1.4892 - val_acc: 0.7915\n",
            "Epoch 20/50\n",
            "20000/20000 [==============================] - 4s 193us/sample - loss: 0.0357 - acc: 0.9858 - val_loss: 1.5202 - val_acc: 0.7883\n",
            "Epoch 21/50\n",
            "20000/20000 [==============================] - 4s 194us/sample - loss: 0.0349 - acc: 0.9862 - val_loss: 1.5904 - val_acc: 0.7882\n",
            "Epoch 22/50\n",
            "20000/20000 [==============================] - 4s 192us/sample - loss: 0.0315 - acc: 0.9874 - val_loss: 1.6102 - val_acc: 0.7877\n",
            "Epoch 23/50\n",
            "20000/20000 [==============================] - 4s 190us/sample - loss: 0.0307 - acc: 0.9873 - val_loss: 1.6500 - val_acc: 0.7848\n",
            "Epoch 24/50\n",
            "20000/20000 [==============================] - 4s 191us/sample - loss: 0.0304 - acc: 0.9882 - val_loss: 1.7633 - val_acc: 0.7925\n",
            "Epoch 25/50\n",
            "20000/20000 [==============================] - 4s 191us/sample - loss: 0.0305 - acc: 0.9880 - val_loss: 1.7475 - val_acc: 0.7870\n",
            "Epoch 26/50\n",
            "20000/20000 [==============================] - 4s 192us/sample - loss: 0.0308 - acc: 0.9869 - val_loss: 1.8173 - val_acc: 0.7876\n",
            "Epoch 27/50\n",
            "20000/20000 [==============================] - 4s 191us/sample - loss: 0.0295 - acc: 0.9876 - val_loss: 1.7910 - val_acc: 0.7907\n",
            "Epoch 28/50\n",
            "20000/20000 [==============================] - 4s 188us/sample - loss: 0.0255 - acc: 0.9889 - val_loss: 1.8433 - val_acc: 0.7918\n",
            "Epoch 29/50\n",
            "20000/20000 [==============================] - 4s 191us/sample - loss: 0.0227 - acc: 0.9904 - val_loss: 1.9360 - val_acc: 0.7810\n",
            "Epoch 30/50\n",
            "20000/20000 [==============================] - 4s 193us/sample - loss: 0.0253 - acc: 0.9890 - val_loss: 2.0783 - val_acc: 0.7712\n",
            "Epoch 31/50\n",
            "20000/20000 [==============================] - 4s 201us/sample - loss: 0.0303 - acc: 0.9872 - val_loss: 1.9563 - val_acc: 0.7797\n",
            "Epoch 32/50\n",
            "20000/20000 [==============================] - 4s 191us/sample - loss: 0.0296 - acc: 0.9873 - val_loss: 1.9494 - val_acc: 0.7849\n",
            "Epoch 33/50\n",
            "20000/20000 [==============================] - 4s 192us/sample - loss: 0.0256 - acc: 0.9898 - val_loss: 1.9667 - val_acc: 0.7815\n",
            "Epoch 34/50\n",
            "20000/20000 [==============================] - 4s 191us/sample - loss: 0.0207 - acc: 0.9908 - val_loss: 2.1057 - val_acc: 0.7903\n",
            "Epoch 35/50\n",
            "20000/20000 [==============================] - 4s 189us/sample - loss: 0.0200 - acc: 0.9915 - val_loss: 2.1750 - val_acc: 0.7819\n",
            "Epoch 36/50\n",
            "20000/20000 [==============================] - 4s 188us/sample - loss: 0.0305 - acc: 0.9872 - val_loss: 2.0373 - val_acc: 0.7845\n",
            "Epoch 37/50\n",
            "20000/20000 [==============================] - 4s 187us/sample - loss: 0.0292 - acc: 0.9875 - val_loss: 2.0392 - val_acc: 0.7857\n",
            "Epoch 38/50\n",
            "20000/20000 [==============================] - 4s 190us/sample - loss: 0.0212 - acc: 0.9907 - val_loss: 2.1483 - val_acc: 0.7874\n",
            "Epoch 39/50\n",
            "20000/20000 [==============================] - 4s 192us/sample - loss: 0.0182 - acc: 0.9920 - val_loss: 2.1892 - val_acc: 0.7861\n",
            "Epoch 40/50\n",
            "20000/20000 [==============================] - 4s 193us/sample - loss: 0.0188 - acc: 0.9912 - val_loss: 2.1778 - val_acc: 0.7860\n",
            "Epoch 41/50\n",
            "20000/20000 [==============================] - 4s 190us/sample - loss: 0.0259 - acc: 0.9887 - val_loss: 2.3452 - val_acc: 0.7830\n",
            "Epoch 42/50\n",
            "20000/20000 [==============================] - 4s 192us/sample - loss: 0.0249 - acc: 0.9901 - val_loss: 2.2900 - val_acc: 0.7864\n",
            "Epoch 43/50\n",
            "20000/20000 [==============================] - 4s 189us/sample - loss: 0.0197 - acc: 0.9911 - val_loss: 2.3900 - val_acc: 0.7870\n",
            "Epoch 44/50\n",
            "20000/20000 [==============================] - 4s 192us/sample - loss: 0.0193 - acc: 0.9912 - val_loss: 2.3378 - val_acc: 0.7831\n",
            "Epoch 45/50\n",
            "20000/20000 [==============================] - 4s 190us/sample - loss: 0.0228 - acc: 0.9902 - val_loss: 2.3275 - val_acc: 0.7857\n",
            "Epoch 46/50\n",
            "20000/20000 [==============================] - 4s 189us/sample - loss: 0.0187 - acc: 0.9916 - val_loss: 2.3997 - val_acc: 0.7882\n",
            "Epoch 47/50\n",
            "20000/20000 [==============================] - 4s 190us/sample - loss: 0.0186 - acc: 0.9915 - val_loss: 2.4923 - val_acc: 0.7867\n",
            "Epoch 48/50\n",
            "20000/20000 [==============================] - 4s 189us/sample - loss: 0.0180 - acc: 0.9916 - val_loss: 2.7200 - val_acc: 0.7867\n",
            "Epoch 49/50\n",
            "20000/20000 [==============================] - 4s 190us/sample - loss: 0.0239 - acc: 0.9901 - val_loss: 2.5452 - val_acc: 0.7903\n",
            "Epoch 50/50\n",
            "20000/20000 [==============================] - 4s 190us/sample - loss: 0.0228 - acc: 0.9898 - val_loss: 2.5679 - val_acc: 0.7866\n"
          ],
          "name": "stdout"
        }
      ]
    },
    {
      "cell_type": "code",
      "metadata": {
        "id": "g9DC6dmLF8DC",
        "colab_type": "code",
        "outputId": "d36c3ad2-865a-44ff-c6ff-1bf03a8cd769",
        "colab": {
          "base_uri": "https://localhost:8080/",
          "height": 542
        }
      },
      "source": [
        "import matplotlib.pyplot as plt\n",
        "\n",
        "\n",
        "def plot_graphs(history, string):\n",
        "  plt.plot(history.history[string])\n",
        "  plt.plot(history.history['val_'+string])\n",
        "  plt.xlabel(\"Epochs\")\n",
        "  plt.ylabel(string)\n",
        "  plt.legend([string, 'val_'+string])\n",
        "  plt.show()\n",
        "\n",
        "plot_graphs(history, 'acc')\n",
        "plot_graphs(history, 'loss')"
      ],
      "execution_count": 0,
      "outputs": [
        {
          "output_type": "display_data",
          "data": {
            "image/png": "[encoded data removed]",
            "text/plain": [
              "<Figure size 432x288 with 1 Axes>"
            ]
          },
          "metadata": {
            "tags": []
          }
        },
        {
          "output_type": "display_data",
          "data": {
            "image/png": "[encoded data removed]",
            "text/plain": [
              "<Figure size 432x288 with 1 Axes>"
            ]
          },
          "metadata": {
            "tags": []
          }
        }
      ]
    },
    {
      "cell_type": "code",
      "metadata": {
        "id": "7ZEZIUppGhdi",
        "colab_type": "code",
        "colab": {}
      },
      "source": [
        "model.save(\"test.h5\")"
      ],
      "execution_count": 0,
      "outputs": []
    }
  ]
}